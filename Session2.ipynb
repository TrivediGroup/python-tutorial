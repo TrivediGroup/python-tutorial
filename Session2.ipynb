{
 "cells": [
  {
   "cell_type": "markdown",
   "metadata": {},
   "source": [
    "# Python Tutorial Session 2"
   ]
  },
  {
   "cell_type": "code",
   "execution_count": 1,
   "metadata": {},
   "outputs": [],
   "source": [
    "import numpy as np\n",
    "import matplotlib.pyplot as plt\n",
    "%matplotlib inline"
   ]
  },
  {
   "cell_type": "markdown",
   "metadata": {},
   "source": [
    "## Complex numbers"
   ]
  },
  {
   "cell_type": "code",
   "execution_count": 2,
   "metadata": {},
   "outputs": [],
   "source": [
    "a = 1 + 2j"
   ]
  },
  {
   "cell_type": "code",
   "execution_count": 3,
   "metadata": {},
   "outputs": [],
   "source": [
    "b = 10 + 20.0j"
   ]
  },
  {
   "cell_type": "code",
   "execution_count": 4,
   "metadata": {},
   "outputs": [
    {
     "data": {
      "text/plain": [
       "(11+22j)"
      ]
     },
     "execution_count": 4,
     "metadata": {},
     "output_type": "execute_result"
    }
   ],
   "source": [
    "a+b"
   ]
  },
  {
   "cell_type": "code",
   "execution_count": 5,
   "metadata": {},
   "outputs": [
    {
     "data": {
      "text/plain": [
       "(-30+40j)"
      ]
     },
     "execution_count": 5,
     "metadata": {},
     "output_type": "execute_result"
    }
   ],
   "source": [
    "a*b"
   ]
  },
  {
   "cell_type": "markdown",
   "metadata": {},
   "source": [
    "## Functions"
   ]
  },
  {
   "cell_type": "code",
   "execution_count": 6,
   "metadata": {},
   "outputs": [],
   "source": [
    "def add(x, y):\n",
    "    z = x + y\n",
    "    return z"
   ]
  },
  {
   "cell_type": "code",
   "execution_count": 7,
   "metadata": {},
   "outputs": [],
   "source": [
    "add2 = add"
   ]
  },
  {
   "cell_type": "code",
   "execution_count": 8,
   "metadata": {},
   "outputs": [
    {
     "data": {
      "text/plain": [
       "3.0"
      ]
     },
     "execution_count": 8,
     "metadata": {},
     "output_type": "execute_result"
    }
   ],
   "source": [
    "add(1.0, 2.0)"
   ]
  },
  {
   "cell_type": "code",
   "execution_count": 9,
   "metadata": {},
   "outputs": [
    {
     "data": {
      "text/plain": [
       "8.0"
      ]
     },
     "execution_count": 9,
     "metadata": {},
     "output_type": "execute_result"
    }
   ],
   "source": [
    "add2(1.0, 2) + 5"
   ]
  },
  {
   "cell_type": "code",
   "execution_count": 10,
   "metadata": {},
   "outputs": [],
   "source": [
    "## Higher Order Functions"
   ]
  },
  {
   "cell_type": "code",
   "execution_count": 11,
   "metadata": {},
   "outputs": [],
   "source": [
    "def make_adder(constant):\n",
    "    def myadder(x):\n",
    "        return x + constant\n",
    "    return myadder"
   ]
  },
  {
   "cell_type": "code",
   "execution_count": 12,
   "metadata": {},
   "outputs": [],
   "source": [
    "add_two = make_adder(2)"
   ]
  },
  {
   "cell_type": "code",
   "execution_count": 13,
   "metadata": {},
   "outputs": [
    {
     "data": {
      "text/plain": [
       "5"
      ]
     },
     "execution_count": 13,
     "metadata": {},
     "output_type": "execute_result"
    }
   ],
   "source": [
    "add_two(3)"
   ]
  },
  {
   "cell_type": "code",
   "execution_count": 14,
   "metadata": {},
   "outputs": [],
   "source": [
    "add_five = make_adder(5)"
   ]
  },
  {
   "cell_type": "code",
   "execution_count": 15,
   "metadata": {},
   "outputs": [],
   "source": [
    "# Want a function\n",
    "# hamiltonian: kx |-> -t0 - 2 t1 cos (kx) - 2 t2 cos(2 kx)"
   ]
  },
  {
   "cell_type": "code",
   "execution_count": 16,
   "metadata": {},
   "outputs": [],
   "source": [
    "def make_hamiltonian(t0, t1, t2):\n",
    "    def hamiltonian(kx):\n",
    "        return -t0 - 2 * t1 * np.cos(kx) - 2 * t2 * np.cos(2*kx)\n",
    "    return hamiltonian"
   ]
  },
  {
   "cell_type": "code",
   "execution_count": 17,
   "metadata": {},
   "outputs": [],
   "source": [
    "h1 = make_hamiltonian(0.0, 1.0, 0.0)"
   ]
  },
  {
   "cell_type": "code",
   "execution_count": 18,
   "metadata": {},
   "outputs": [],
   "source": [
    "kxs = np.linspace(0, 2*np.pi, 16, endpoint=False)"
   ]
  },
  {
   "cell_type": "code",
   "execution_count": 19,
   "metadata": {},
   "outputs": [],
   "source": [
    "e1s = []\n",
    "for kx in kxs:\n",
    "    e1s.append( h1(kx) )"
   ]
  },
  {
   "cell_type": "code",
   "execution_count": 20,
   "metadata": {},
   "outputs": [
    {
     "data": {
      "text/plain": [
       "[<matplotlib.lines.Line2D at 0x11f9a0550>]"
      ]
     },
     "execution_count": 20,
     "metadata": {},
     "output_type": "execute_result"
    },
    {
     "data": {
      "image/png": "[encoded data removed]",
      "text/plain": [
       "<Figure size 432x288 with 1 Axes>"
      ]
     },
     "metadata": {
      "needs_background": "light"
     },
     "output_type": "display_data"
    }
   ],
   "source": [
    "plt.plot(kxs, e1s, 'o-', linewidth=2)"
   ]
  },
  {
   "cell_type": "code",
   "execution_count": 21,
   "metadata": {},
   "outputs": [],
   "source": [
    "h2 = make_hamiltonian(0.5, 1.0, 0.2)"
   ]
  },
  {
   "cell_type": "code",
   "execution_count": 22,
   "metadata": {},
   "outputs": [],
   "source": [
    "e2s = []\n",
    "for kx in kxs:\n",
    "    e2s.append( h2(kx) )"
   ]
  },
  {
   "cell_type": "code",
   "execution_count": 23,
   "metadata": {},
   "outputs": [
    {
     "data": {
      "text/plain": [
       "[<matplotlib.lines.Line2D at 0x11f9fbc88>]"
      ]
     },
     "execution_count": 23,
     "metadata": {},
     "output_type": "execute_result"
    },
    {
     "data": {
      "image/png": "[encoded data removed]",
      "text/plain": [
       "<Figure size 432x288 with 1 Axes>"
      ]
     },
     "metadata": {
      "needs_background": "light"
     },
     "output_type": "display_data"
    }
   ],
   "source": [
    "plt.plot(kxs, e1s, '.-', linewidth=1)\n",
    "plt.plot(kxs, e2s, 'o-', linewidth=2)"
   ]
  },
  {
   "cell_type": "markdown",
   "metadata": {},
   "source": [
    "## Example: Graphene Band Structure\n",
    "\n",
    "$$\n",
    "H(\\mathbf{k}) = \\begin{pmatrix} -\\mu & -t \\sum_{i} e^{-i \\mathbf{k} \\cdot \\delta_{i}} \\\\ c.c. & -\\mu \\end{pmatrix}\n",
    "$$"
   ]
  },
  {
   "cell_type": "code",
   "execution_count": 24,
   "metadata": {},
   "outputs": [],
   "source": [
    "delta_1 = np.array([0, 1])\n",
    "delta_2 = np.array([-np.sqrt(3)*0.5, -0.5])\n",
    "delta_3 = np.array([+np.sqrt(3)*0.5, -0.5])"
   ]
  },
  {
   "cell_type": "code",
   "execution_count": 25,
   "metadata": {},
   "outputs": [],
   "source": [
    "# Creating a multidimensional array from other arrays\n",
    "\n",
    "deltas = np.array([delta_1,\n",
    "                   delta_2,\n",
    "                   delta_3])"
   ]
  },
  {
   "cell_type": "code",
   "execution_count": 26,
   "metadata": {},
   "outputs": [
    {
     "data": {
      "text/plain": [
       "array([[ 0.       ,  1.       ],\n",
       "       [-0.8660254, -0.5      ],\n",
       "       [ 0.8660254, -0.5      ]])"
      ]
     },
     "execution_count": 26,
     "metadata": {},
     "output_type": "execute_result"
    }
   ],
   "source": [
    "deltas"
   ]
  },
  {
   "cell_type": "code",
   "execution_count": 27,
   "metadata": {},
   "outputs": [
    {
     "data": {
      "text/plain": [
       "array([0., 1.])"
      ]
     },
     "execution_count": 27,
     "metadata": {},
     "output_type": "execute_result"
    }
   ],
   "source": [
    "# Array slicing\n",
    "deltas[0, :]"
   ]
  },
  {
   "cell_type": "code",
   "execution_count": 28,
   "metadata": {},
   "outputs": [
    {
     "data": {
      "text/plain": [
       "array([-0.8660254, -0.5      ])"
      ]
     },
     "execution_count": 28,
     "metadata": {},
     "output_type": "execute_result"
    }
   ],
   "source": [
    "# Indexing from the end\n",
    "deltas[-2, :]"
   ]
  },
  {
   "cell_type": "code",
   "execution_count": null,
   "metadata": {},
   "outputs": [],
   "source": []
  },
  {
   "cell_type": "code",
   "execution_count": 29,
   "metadata": {},
   "outputs": [],
   "source": [
    "# range(6) similar to [0,1,2,3,4,5]"
   ]
  },
  {
   "cell_type": "code",
   "execution_count": 30,
   "metadata": {},
   "outputs": [],
   "source": [
    "def make_graphene_hamiltonian(mu, t):\n",
    "    def h(k):  # k: numpy array of size 2\n",
    "        retval = np.zeros((2,2), dtype=np.complex128)\n",
    "        sum_of_exps = 0\n",
    "        for i in range(3):\n",
    "            sum_of_exps = sum_of_exps + np.exp(-1j * np.dot(k, deltas[i, :]))\n",
    "        retval[0,0] = -mu\n",
    "        retval[0,1] = -t * sum_of_exps\n",
    "        retval[1,0] = -t * sum_of_exps.conj()\n",
    "        retval[1,1] = -mu\n",
    "        return retval\n",
    "    \n",
    "    return h"
   ]
  },
  {
   "cell_type": "code",
   "execution_count": 31,
   "metadata": {},
   "outputs": [],
   "source": [
    "def make_graphene_hamiltonian(mu, t):\n",
    "    def h(k):  # k: numpy array of size 2\n",
    "        sum_of_exps = 0\n",
    "        for i in range(3):\n",
    "            sum_of_exps += np.exp(-1j * np.dot(k, deltas[i, :]))\n",
    "        return np.array([[ -mu                    , -t * sum_of_exps],\n",
    "                         [ -t * sum_of_exps.conj(), -mu             ]])\n",
    "    return h"
   ]
  },
  {
   "cell_type": "code",
   "execution_count": 32,
   "metadata": {},
   "outputs": [],
   "source": [
    "h_graphene = make_graphene_hamiltonian(0.0, 1.0)"
   ]
  },
  {
   "cell_type": "code",
   "execution_count": 33,
   "metadata": {},
   "outputs": [],
   "source": [
    "kxs = np.linspace(-np.pi, np.pi, 16+1)"
   ]
  },
  {
   "cell_type": "code",
   "execution_count": 34,
   "metadata": {},
   "outputs": [
    {
     "data": {
      "text/plain": [
       "array([[-0.+0.j, -3.+0.j],\n",
       "       [-3.+0.j, -0.+0.j]])"
      ]
     },
     "execution_count": 34,
     "metadata": {},
     "output_type": "execute_result"
    }
   ],
   "source": [
    "h_graphene(np.array([0.0, 0.0]))"
   ]
  },
  {
   "cell_type": "code",
   "execution_count": 35,
   "metadata": {},
   "outputs": [],
   "source": [
    "## eigh    -> both eigenvalues and eigenvectors (of a Hermitian matrix)\n",
    "## eigvalsh -> just eigenvalues"
   ]
  },
  {
   "cell_type": "code",
   "execution_count": 36,
   "metadata": {},
   "outputs": [],
   "source": [
    "all_eigenvalues = []\n",
    "for kx in kxs:\n",
    "    k = np.array([kx, 0.0])\n",
    "    h_mat = h_graphene(k)\n",
    "    eigenvalues = np.linalg.eigvalsh(h_mat)   # 1D numpy array of size 2\n",
    "    all_eigenvalues.append( eigenvalues )"
   ]
  },
  {
   "cell_type": "code",
   "execution_count": 37,
   "metadata": {},
   "outputs": [
    {
     "data": {
      "text/plain": [
       "[array([-0.8254484,  0.8254484]),\n",
       " array([-0.44831968,  0.44831968]),\n",
       " array([-0.09471255,  0.09471255]),\n",
       " array([-0.74144451,  0.74144451]),\n",
       " array([-1.41779373,  1.41779373]),\n",
       " array([-2.04628512,  2.04628512]),\n",
       " array([-2.55492564,  2.55492564]),\n",
       " array([-2.88545104,  2.88545104]),\n",
       " array([-3.,  3.]),\n",
       " array([-2.88545104,  2.88545104]),\n",
       " array([-2.55492564,  2.55492564]),\n",
       " array([-2.04628512,  2.04628512]),\n",
       " array([-1.41779373,  1.41779373]),\n",
       " array([-0.74144451,  0.74144451]),\n",
       " array([-0.09471255,  0.09471255]),\n",
       " array([-0.44831968,  0.44831968]),\n",
       " array([-0.8254484,  0.8254484])]"
      ]
     },
     "execution_count": 37,
     "metadata": {},
     "output_type": "execute_result"
    }
   ],
   "source": [
    "# <-- Here, all_eigenvalues is a list of numpy arrays.\n",
    "all_eigenvalues"
   ]
  },
  {
   "cell_type": "code",
   "execution_count": 38,
   "metadata": {},
   "outputs": [],
   "source": [
    "# After the following line, all_eigenvalues is a two-dimensional numpy array\n",
    "all_eigenvalues = np.array(all_eigenvalues)"
   ]
  },
  {
   "cell_type": "code",
   "execution_count": 39,
   "metadata": {},
   "outputs": [
    {
     "data": {
      "text/plain": [
       "array([[-0.8254484 ,  0.8254484 ],\n",
       "       [-0.44831968,  0.44831968],\n",
       "       [-0.09471255,  0.09471255],\n",
       "       [-0.74144451,  0.74144451],\n",
       "       [-1.41779373,  1.41779373],\n",
       "       [-2.04628512,  2.04628512],\n",
       "       [-2.55492564,  2.55492564],\n",
       "       [-2.88545104,  2.88545104],\n",
       "       [-3.        ,  3.        ],\n",
       "       [-2.88545104,  2.88545104],\n",
       "       [-2.55492564,  2.55492564],\n",
       "       [-2.04628512,  2.04628512],\n",
       "       [-1.41779373,  1.41779373],\n",
       "       [-0.74144451,  0.74144451],\n",
       "       [-0.09471255,  0.09471255],\n",
       "       [-0.44831968,  0.44831968],\n",
       "       [-0.8254484 ,  0.8254484 ]])"
      ]
     },
     "execution_count": 39,
     "metadata": {},
     "output_type": "execute_result"
    }
   ],
   "source": [
    "all_eigenvalues"
   ]
  },
  {
   "cell_type": "code",
   "execution_count": 40,
   "metadata": {},
   "outputs": [
    {
     "data": {
      "text/plain": [
       "(17, 2)"
      ]
     },
     "execution_count": 40,
     "metadata": {},
     "output_type": "execute_result"
    }
   ],
   "source": [
    "all_eigenvalues.shape"
   ]
  },
  {
   "cell_type": "code",
   "execution_count": 41,
   "metadata": {},
   "outputs": [],
   "source": [
    "# all_eigenvalues[:, 0]  # eigenvalues of the lower band\n",
    "# all_eigenvalues[:, 1]  # eigenvalues of the upper band"
   ]
  },
  {
   "cell_type": "code",
   "execution_count": 42,
   "metadata": {},
   "outputs": [
    {
     "data": {
      "text/plain": [
       "[<matplotlib.lines.Line2D at 0x11fabb9b0>]"
      ]
     },
     "execution_count": 42,
     "metadata": {},
     "output_type": "execute_result"
    },
    {
     "data": {
      "image/png": "[encoded data removed]",
      "text/plain": [
       "<Figure size 432x288 with 1 Axes>"
      ]
     },
     "metadata": {
      "needs_background": "light"
     },
     "output_type": "display_data"
    }
   ],
   "source": [
    "plt.plot(kxs, all_eigenvalues[:,0], '.-')\n",
    "plt.plot(kxs, all_eigenvalues[:,1], '.-')"
   ]
  },
  {
   "cell_type": "code",
   "execution_count": 43,
   "metadata": {},
   "outputs": [],
   "source": [
    "kxs = np.linspace(-2*np.pi, 2*np.pi, 100+1)\n",
    "kys = np.linspace(-2*np.pi, 2*np.pi, 100+1)"
   ]
  },
  {
   "cell_type": "code",
   "execution_count": 44,
   "metadata": {},
   "outputs": [],
   "source": [
    "all_eigenvalues = []\n",
    "for kx in kxs:\n",
    "    for ky in kys:\n",
    "        k = np.array([kx, ky])\n",
    "        h_mat = h_graphene(k)\n",
    "        eigenvalues = np.linalg.eigvalsh(h_mat)\n",
    "        all_eigenvalues.append(eigenvalues)"
   ]
  },
  {
   "cell_type": "code",
   "execution_count": 45,
   "metadata": {},
   "outputs": [],
   "source": [
    "all_eigenvalues = np.array(all_eigenvalues)"
   ]
  },
  {
   "cell_type": "code",
   "execution_count": 46,
   "metadata": {},
   "outputs": [
    {
     "data": {
      "text/plain": [
       "(10201, 2)"
      ]
     },
     "execution_count": 46,
     "metadata": {},
     "output_type": "execute_result"
    }
   ],
   "source": [
    "all_eigenvalues.shape"
   ]
  },
  {
   "cell_type": "code",
   "execution_count": 47,
   "metadata": {},
   "outputs": [],
   "source": [
    "# array reshaping\n",
    "all_eigenvalues.shape = (101, 101, 2)"
   ]
  },
  {
   "cell_type": "code",
   "execution_count": 48,
   "metadata": {},
   "outputs": [
    {
     "data": {
      "text/plain": [
       "<matplotlib.colorbar.Colorbar at 0x11fced978>"
      ]
     },
     "execution_count": 48,
     "metadata": {},
     "output_type": "execute_result"
    },
    {
     "data": {
      "image/png": "[encoded data removed]",
      "text/plain": [
       "<Figure size 432x288 with 2 Axes>"
      ]
     },
     "metadata": {
      "needs_background": "light"
     },
     "output_type": "display_data"
    }
   ],
   "source": [
    "plt.imshow(all_eigenvalues[:, :, 0].transpose(),\n",
    "           origin='lower',\n",
    "           extent=[np.min(kxs), np.max(kxs), np.min(kys), np.max(kys)]\n",
    "          )\n",
    "plt.xticks([-2*np.pi, -np.pi, 0, np.pi, 2*np.pi],\n",
    "           [r'$-2\\pi$', r'$-\\pi$', r'$0$', r'$\\pi$', r'$2\\pi$'])\n",
    "plt.colorbar()"
   ]
  },
  {
   "cell_type": "code",
   "execution_count": 49,
   "metadata": {},
   "outputs": [
    {
     "name": "stdout",
     "output_type": "stream",
     "text": [
      "\\alpha + \\beta\n",
      "\u0007lpha +eta\n"
     ]
    }
   ],
   "source": [
    "## r'...' : raw string\n",
    "print(r'\\alpha + \\beta')\n",
    "print('\\alpha + \\beta')"
   ]
  },
  {
   "cell_type": "code",
   "execution_count": null,
   "metadata": {},
   "outputs": [],
   "source": []
  }
 ],
 "metadata": {
  "kernelspec": {
   "display_name": "py37",
   "language": "python",
   "name": "py37"
  },
  "language_info": {
   "codemirror_mode": {
    "name": "ipython",
    "version": 3
   },
   "file_extension": ".py",
   "mimetype": "text/x-python",
   "name": "python",
   "nbconvert_exporter": "python",
   "pygments_lexer": "ipython3",
   "version": "3.7.1"
  }
 },
 "nbformat": 4,
 "nbformat_minor": 2
}
